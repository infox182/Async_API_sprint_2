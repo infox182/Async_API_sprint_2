{
 "cells": [
  {
   "cell_type": "code",
   "execution_count": 9,
   "metadata": {},
   "outputs": [],
   "source": [
    "from datetime import datetime\n",
    "import orjson\n",
    "from pydantic import BaseModel, Field\n",
    "\n",
    "def orjson_dumps(v, *, default):\n",
    "    return orjson.dumps(v, default=default).decode()\n",
    "        \n",
    "class MyBaseModel(BaseModel):\n",
    "    uuid: str = Field(alias=\"id\")\n",
    "    \n",
    "    class Config:\n",
    "        json_loads = orjson.loads\n",
    "        json_dumps = orjson_dumps\n",
    "        allow_population_by_field_name = True\n",
    "\n",
    "class Person(MyBaseModel):\n",
    "    full_name: str = Field(alias=\"name\")\n",
    "\n",
    "class GenreForFilm(MyBaseModel):\n",
    "    name: str\n",
    "\n",
    "class Film(MyBaseModel):\n",
    "    title: str\n",
    "    imdb_rating: float = None\n",
    "    description: str = None\n",
    "    creation_date: datetime = None\n",
    "    genres: list[GenreForFilm] = []\n",
    "    actors: list[Person] = []\n",
    "    writers: list[Person] = []\n",
    "    directors: list[Person] = []\n"
   ]
  },
  {
   "cell_type": "code",
   "execution_count": 17,
   "metadata": {},
   "outputs": [],
   "source": [
    "obj = b'{\"uuid\":\"4af6c9c9-0be0-4864-b1e9-7f87dd59ee1f\",\"title\":\"Star Trek\", \"genres\":[{\"uuid\":\"4af6c9c9-0be0-4864-b1e9-7f87dd59ee1f\",\"name\":\"Comedy\"}]}'"
   ]
  },
  {
   "cell_type": "code",
   "execution_count": 18,
   "metadata": {},
   "outputs": [],
   "source": [
    "film = Film.parse_raw(obj)"
   ]
  },
  {
   "cell_type": "code",
   "execution_count": 20,
   "metadata": {},
   "outputs": [
    {
     "data": {
      "text/plain": [
       "[GenreForFilm(uuid='4af6c9c9-0be0-4864-b1e9-7f87dd59ee1f', name='Comedy')]"
      ]
     },
     "execution_count": 20,
     "metadata": {},
     "output_type": "execute_result"
    }
   ],
   "source": [
    "film.genres."
   ]
  },
  {
   "cell_type": "code",
   "execution_count": 6,
   "metadata": {},
   "outputs": [],
   "source": [
    "person = Person.parse_raw(obj)"
   ]
  },
  {
   "cell_type": "code",
   "execution_count": 8,
   "metadata": {},
   "outputs": [
    {
     "data": {
      "text/plain": [
       "{'uuid': '4af6c9c9-0be0-4864-b1e9-7f87dd59ee1f', 'full_name': 'Star Trek'}"
      ]
     },
     "execution_count": 8,
     "metadata": {},
     "output_type": "execute_result"
    }
   ],
   "source": [
    "person.dict()"
   ]
  },
  {
   "cell_type": "code",
   "execution_count": null,
   "metadata": {},
   "outputs": [],
   "source": [
    "film"
   ]
  },
  {
   "cell_type": "code",
   "execution_count": null,
   "metadata": {},
   "outputs": [],
   "source": [
    "datosdwd = 2"
   ]
  },
  {
   "cell_type": "code",
   "execution_count": null,
   "metadata": {},
   "outputs": [],
   "source": [
    "goga = \"qwdqwd {datosdwd}\""
   ]
  },
  {
   "cell_type": "code",
   "execution_count": null,
   "metadata": {},
   "outputs": [],
   "source": [
    "goga.format(datosdwd = 'qwdqwd')"
   ]
  },
  {
   "cell_type": "code",
   "execution_count": null,
   "metadata": {},
   "outputs": [],
   "source": []
  }
 ],
 "metadata": {
  "kernelspec": {
   "display_name": ".venv",
   "language": "python",
   "name": "python3"
  },
  "language_info": {
   "codemirror_mode": {
    "name": "ipython",
    "version": 3
   },
   "file_extension": ".py",
   "mimetype": "text/x-python",
   "name": "python",
   "nbconvert_exporter": "python",
   "pygments_lexer": "ipython3",
   "version": "3.10.13"
  }
 },
 "nbformat": 4,
 "nbformat_minor": 2
}
